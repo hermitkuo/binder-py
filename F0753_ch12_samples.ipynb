{
 "cells": [
  {
   "cell_type": "markdown",
   "metadata": {},
   "source": [
    "# F0753 範例程式 - 第 12 章 運用機器學習做分類 (classication) 預測及資料簡化"
   ]
  },
  {
   "cell_type": "markdown",
   "metadata": {},
   "source": [
    "## 12-0 資料分類 (classification)"
   ]
  },
  {
   "cell_type": "markdown",
   "metadata": {},
   "source": [
    "## 12-1 KNN (K 近鄰) 預測模型"
   ]
  },
  {
   "cell_type": "markdown",
   "metadata": {},
   "source": [
    "### *匯入並分割資料集*"
   ]
  },
  {
   "cell_type": "code",
   "execution_count": null,
   "metadata": {},
   "outputs": [],
   "source": [
    "from sklearn import datasets\n",
    "from sklearn.model_selection import train_test_split\n",
    "\n",
    "data, target = datasets.load_wine(return_X_y=True)\n",
    "\n",
    "data_train, data_test, target_train, target_test = train_test_split(data, target, test_size=0.2, random_state=0)"
   ]
  },
  {
   "cell_type": "markdown",
   "metadata": {},
   "source": [
    "### *建立 KNN 模型來預測分類*"
   ]
  },
  {
   "cell_type": "code",
   "execution_count": null,
   "metadata": {},
   "outputs": [],
   "source": [
    "# 沿用上一小節的套件及 data_train, data_test, target_train, target_test\n",
    "\n",
    "from sklearn.neighbors import KNeighborsClassifier\n",
    "\n",
    "knn = KNeighborsClassifier(n_neighbors=5)\n",
    "knn.fit(data_train, target_train)\n",
    "predictions = knn.predict(data_test)\n",
    "\n",
    "print(predictions)\n",
    "print(target_test)"
   ]
  },
  {
   "cell_type": "markdown",
   "metadata": {},
   "source": [
    "### *評估預測結果*"
   ]
  },
  {
   "cell_type": "code",
   "execution_count": null,
   "metadata": {},
   "outputs": [],
   "source": [
    "# 沿用上一小節的套件及 knn, data_train, data_test, target_train, target_test\n",
    "\n",
    "print(knn.score(data_train, target_train).round(3))\n",
    "print(knn.score(data_test, target_test).round(3))"
   ]
  },
  {
   "cell_type": "code",
   "execution_count": null,
   "metadata": {},
   "outputs": [],
   "source": [
    "# 沿用上一小節的 predictions\n",
    "\n",
    "from sklearn.metrics import classification_report\n",
    "\n",
    "print(classification_report(target_test, predictions))"
   ]
  },
  {
   "cell_type": "markdown",
   "metadata": {},
   "source": [
    "### *(bonus) 如何找出最適合的 K 值？*\n",
    "\n",
    "雖然書上說你得自行試驗並尋找最合適的 K 值, 但 scikit-learn 其實提供了個半自動解決辦法。下面的程式會使用 GridSearchCV 來搜尋預測效果最好的 n_neighbors 參數。(當然, 預測效果仍會因資料集的分割方式而有所變動。)"
   ]
  },
  {
   "cell_type": "code",
   "execution_count": null,
   "metadata": {},
   "outputs": [],
   "source": [
    "import numpy as np\n",
    "from sklearn import datasets\n",
    "from sklearn.model_selection import train_test_split\n",
    "from sklearn.neighbors import KNeighborsClassifier\n",
    "\n",
    "from sklearn.model_selection import GridSearchCV\n",
    "\n",
    "data, target = datasets.load_wine(return_X_y=True)\n",
    "data_train, data_test, target_train, target_test = train_test_split(data, target, test_size=0.2, random_state=0)\n",
    "\n",
    "knn = KNeighborsClassifier()\n",
    "\n",
    "parameters = {'n_neighbors': np.arange(10)+1}   # 指定 n_neighbors 測試範圍 (1~10)\n",
    "clf = GridSearchCV(knn, parameters)\n",
    "clf.fit(data_train, target_train)\n",
    "\n",
    "print(clf.best_params_)   # 印出測試範圍中最佳的 n_neighbors 參數值"
   ]
  },
  {
   "cell_type": "markdown",
   "metadata": {},
   "source": [
    "## 邏輯斯 (Logistic) 迴歸模型"
   ]
  },
  {
   "cell_type": "markdown",
   "metadata": {},
   "source": [
    "### *訓練邏輯斯迴歸模型並預測資料*"
   ]
  },
  {
   "cell_type": "code",
   "execution_count": null,
   "metadata": {},
   "outputs": [],
   "source": [
    "from sklearn import datasets\n",
    "from sklearn.model_selection import train_test_split\n",
    "\n",
    "data, target = datasets.load_wine(return_X_y=True)\n",
    "data_train, data_test, target_train, target_test = train_test_split(data, target, test_size=0.2, random_state=0)"
   ]
  },
  {
   "cell_type": "code",
   "execution_count": null,
   "metadata": {},
   "outputs": [],
   "source": [
    "from sklearn.linear_model import LogisticRegression\n",
    "\n",
    "log_model = LogisticRegression()\n",
    "log_model.fit(data_train, target_train)\n",
    "predictions = log_model.predict(data_test)\n",
    "\n",
    "print(predictions)\n",
    "print(target_test)"
   ]
  },
  {
   "cell_type": "markdown",
   "metadata": {},
   "source": [
    "### *評估預測成效*"
   ]
  },
  {
   "cell_type": "code",
   "execution_count": null,
   "metadata": {},
   "outputs": [],
   "source": [
    "# 沿用上一小節的 log_model, ata_train, data_test, target_train, target_test, predictions\n",
    "\n",
    "print(log_model.score(data_train, target_train).round(3))\n",
    "print(log_model.score(data_test, target_test).round(3))\n",
    "\n",
    "from sklearn.metrics import classification_report\n",
    "print(classification_report(target_test, predictions))"
   ]
  },
  {
   "cell_type": "markdown",
   "metadata": {},
   "source": [
    "## 12-3 改善邏輯斯迴歸模型"
   ]
  },
  {
   "cell_type": "markdown",
   "metadata": {},
   "source": [
    "### *增加迭代次數、資料標準化 (standardization)*"
   ]
  },
  {
   "cell_type": "code",
   "execution_count": null,
   "metadata": {},
   "outputs": [],
   "source": [
    "from sklearn import datasets\n",
    "from sklearn.model_selection import train_test_split\n",
    "from sklearn.preprocessing import StandardScaler\n",
    "\n",
    "data, target = datasets.load_wine(return_X_y=True)\n",
    "\n",
    "sc = StandardScaler()\n",
    "data_std = sc.fit_transform(data)\n",
    "\n",
    "data_train, data_test, target_train, target_test = train_test_split(data_std, target, test_size=0.2, random_state=0)\n",
    "\n",
    "from sklearn.linear_model import LogisticRegression\n",
    "\n",
    "log_model = LogisticRegression(max_iter=10000, verbose=True)\n",
    "log_model.fit(data_train, target_train)\n",
    "predictions = log_model.predict(data_test)\n",
    "\n",
    "print(log_model.score(data_train, target_train).round(3))\n",
    "print(log_model.score(data_test, target_test).round(3))"
   ]
  },
  {
   "cell_type": "markdown",
   "metadata": {},
   "source": [
    "## 12-4 主成分分析 (PCA)：減少需分析的變數"
   ]
  },
  {
   "cell_type": "markdown",
   "metadata": {},
   "source": [
    "### *用線性支援向量 (SVM) 機建立預測模型*"
   ]
  },
  {
   "cell_type": "code",
   "execution_count": null,
   "metadata": {},
   "outputs": [],
   "source": [
    "from sklearn import datasets\n",
    "from sklearn.model_selection import train_test_split\n",
    "from sklearn.preprocessing import StandardScaler\n",
    "\n",
    "data, target = datasets.load_digits(return_X_y=True)\n",
    "\n",
    "sc = StandardScaler()\n",
    "data_std = sc.fit_transform(data)\n",
    "\n",
    "data_train, data_test, target_train, target_test = train_test_split(data_std, target, test_size=0.2, random_state=42)\n",
    "\n",
    "from sklearn.svm import LinearSVC\n",
    "\n",
    "svc = LinearSVC(max_iter=10000)\n",
    "svc.fit(data_train, target_train)\n",
    "predictions = svc.predict(data_test)\n",
    "\n",
    "print(svc.score(data_train, target_train).round(3))\n",
    "print(svc.score(data_test, target_test).round(3))"
   ]
  },
  {
   "cell_type": "markdown",
   "metadata": {},
   "source": [
    "### *檢視特徵值的變異程度*"
   ]
  },
  {
   "cell_type": "code",
   "execution_count": null,
   "metadata": {},
   "outputs": [],
   "source": [
    "# 沿用上一小節的 data\n",
    "\n",
    "from sklearn.decomposition import PCA\n",
    "\n",
    "pca = PCA()\n",
    "pca.fit(data)\n",
    "print(pca.explained_variance_ratio_ .round(3))"
   ]
  },
  {
   "cell_type": "markdown",
   "metadata": {},
   "source": [
    "### *用 PCA 篩選特徵值*"
   ]
  },
  {
   "cell_type": "code",
   "execution_count": null,
   "metadata": {},
   "outputs": [],
   "source": [
    "# 沿用上一小節的套件及 data\n",
    "\n",
    "pca = PCA(n_components=0.85)\n",
    "pca.fit(data)\n",
    "print(pca.explained_variance_ratio_.round(3))"
   ]
  },
  {
   "cell_type": "code",
   "execution_count": null,
   "metadata": {},
   "outputs": [],
   "source": [
    "pca = PCA(n_components=10)\n",
    "pca.fit(data)\n",
    "print(pca.explained_variance_ratio_.round(3))"
   ]
  },
  {
   "cell_type": "markdown",
   "metadata": {},
   "source": [
    "### *拿簡化過的資料來訓練模型*"
   ]
  },
  {
   "cell_type": "code",
   "execution_count": null,
   "metadata": {},
   "outputs": [],
   "source": [
    "from sklearn import datasets\n",
    "from sklearn.model_selection import train_test_split\n",
    "from sklearn.decomposition import PCA\n",
    "from sklearn.preprocessing import StandardScaler\n",
    "from sklearn.svm import LinearSVC\n",
    "\n",
    "data, target = datasets.load_digits(return_X_y=True)\n",
    "\n",
    "pca = PCA(n_components=0.85)\n",
    "data_pca = pca.fit_transform(data)\n",
    "\n",
    "sc = StandardScaler()\n",
    "data_std = sc.fit_transform(data_pca)\n",
    "\n",
    "data_train, data_test, target_train, target_test = train_test_split(data_std, target, test_size=0.2, random_state=42)\n",
    "\n",
    "svc = LinearSVC(max_iter=10000)\n",
    "svc.fit(data_train, target_train)\n",
    "predictions = svc.predict(data_test)\n",
    "\n",
    "print(svc.score(data_train, target_train).round(3))\n",
    "print(svc.score(data_test, target_test).round(3))"
   ]
  },
  {
   "cell_type": "markdown",
   "metadata": {},
   "source": [
    "## (bonus) 保存和重複使用預測模型\n",
    "\n",
    "在訓練好模型後, 你可用以下程式將模型儲存在磁碟中, 以利日後重複使用, 不必每次執行程式都得重新訓練模型。"
   ]
  },
  {
   "cell_type": "code",
   "execution_count": null,
   "metadata": {},
   "outputs": [],
   "source": [
    "import pickle\n",
    "filename = r'C:\\Users\\你的使用者名稱\\Downloads\\svc_model'   # 檔案路徑和名稱\n",
    "\n",
    "pickle.dump(svc, open(filename, 'wb'))   # 將 svc 模型物件寫入到二進位檔"
   ]
  },
  {
   "cell_type": "code",
   "execution_count": null,
   "metadata": {},
   "outputs": [],
   "source": [
    "import pickle\n",
    "filename = r'C:\\Users\\你的使用者名稱\\Downloads\\svc_model'   # 檔案路徑和名稱\n",
    "\n",
    "saved_model = pickle.load(open(filename, 'rb'))   # 讀取二進位檔, 還原成模型物件 saved_model\n",
    "\n",
    "print(saved_model)   # 檢視模型\n",
    "print(saved_model.predict(data_test[0:5]))   # 預測資料 (使用 data_test 的前 5 筆資料)"
   ]
  }
 ],
 "metadata": {
  "kernelspec": {
   "display_name": "Python 3",
   "language": "python",
   "name": "python3"
  },
  "language_info": {
   "codemirror_mode": {
    "name": "ipython",
    "version": 3
   },
   "file_extension": ".py",
   "mimetype": "text/x-python",
   "name": "python",
   "nbconvert_exporter": "python",
   "pygments_lexer": "ipython3",
   "version": "3.8.3"
  }
 },
 "nbformat": 4,
 "nbformat_minor": 4
}
